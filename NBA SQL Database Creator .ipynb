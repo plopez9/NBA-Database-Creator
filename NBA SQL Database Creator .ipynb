{
 "cells": [
  {
   "cell_type": "code",
   "execution_count": 186,
   "metadata": {},
   "outputs": [],
   "source": [
    "import pandas as pd\n",
    "from bs4 import BeautifulSoup\n",
    "import requests"
   ]
  },
  {
   "cell_type": "code",
   "execution_count": null,
   "metadata": {},
   "outputs": [],
   "source": []
  },
  {
   "cell_type": "code",
   "execution_count": 187,
   "metadata": {},
   "outputs": [],
   "source": [
    "URL = \"https://www.basketball-reference.com/leagues/NBA_2018_totals.html\"\n",
    "sauce = requests.get(URL).text\n",
    "soup = BeautifulSoup(sauce, \"lxml\")\n",
    "del sauce"
   ]
  },
  {
   "cell_type": "code",
   "execution_count": 188,
   "metadata": {},
   "outputs": [],
   "source": [
    "cols = [header.text for header in soup.find(\"tr\").find_all(\"th\")]"
   ]
  },
  {
   "cell_type": "code",
   "execution_count": 189,
   "metadata": {},
   "outputs": [
    {
     "name": "stdout",
     "output_type": "stream",
     "text": [
      "['Rk', 'Player', 'Pos', 'Age', 'Tm', 'G', 'GS', 'MP', 'FG', 'FGA', 'FG%', '3P', '3PA', '3P%', '2P', '2PA', '2P%', 'eFG%', 'FT', 'FTA', 'FT%', 'ORB', 'DRB', 'TRB', 'AST', 'STL', 'BLK', 'TOV', 'PF', 'PTS']\n"
     ]
    }
   ],
   "source": [
    "print(cols)"
   ]
  },
  {
   "cell_type": "code",
   "execution_count": 190,
   "metadata": {},
   "outputs": [],
   "source": [
    "db_data = [[data.text for data in record.find_all(\"td\")] for record in soup.find_all(\"tr\")]"
   ]
  },
  {
   "cell_type": "code",
   "execution_count": 191,
   "metadata": {},
   "outputs": [],
   "source": [
    "data = pd.DataFrame(db_data[1:])\n",
    "data.columns = cols[1:]\n",
    "data.dropna(how=\"all\", axis=0, inplace=True)\n",
    "\n",
    "del db_data\n",
    "del cols"
   ]
  },
  {
   "cell_type": "code",
   "execution_count": 192,
   "metadata": {},
   "outputs": [],
   "source": [
    "data.loc[:,\"G\":] = data.loc[:,\"G\":].apply(pd.to_numeric)\n"
   ]
  },
  {
   "cell_type": "code",
   "execution_count": 193,
   "metadata": {},
   "outputs": [],
   "source": [
    "#Keep to reference split function\n",
    "#name_split = lambda x: x[\"Player\"].split(\"\\\\\")[0]\n",
    "#data[\"Player\"] = data.apply(name_split, axis=1)\n",
    "#del name_split"
   ]
  },
  {
   "cell_type": "code",
   "execution_count": 194,
   "metadata": {},
   "outputs": [],
   "source": [
    "raw_stats = pd.concat([data[\"MP\"], data[\"TRB\"], data[\"AST\"], data[\"STL\"], data[\"BLK\"], data[\"TOV\"], data[\"PTS\"]], axis=1)\n",
    "per_game_label = [\"MP/G\", \"TRB/G\", \"AST/G\", \"STL/G\", \"BLK/G\", \"TOV/G\", \"PTS/G\"] \n",
    "raw_stats.columns = per_game_label\n",
    "del per_game_label"
   ]
  },
  {
   "cell_type": "code",
   "execution_count": 195,
   "metadata": {},
   "outputs": [],
   "source": [
    "games = data[\"G\"]\n",
    "\n",
    "def normalize (series1):\n",
    "    return (series1/games)"
   ]
  },
  {
   "cell_type": "code",
   "execution_count": 196,
   "metadata": {},
   "outputs": [],
   "source": [
    "raw_stats= raw_stats.apply(normalize)\n",
    "raw_stats= raw_stats.round(2)\n",
    "data = pd.concat([data, raw_stats], axis=1)\n",
    "del raw_stats\n",
    "del games"
   ]
  },
  {
   "cell_type": "code",
   "execution_count": 199,
   "metadata": {},
   "outputs": [
    {
     "name": "stdout",
     "output_type": "stream",
     "text": [
      "              Player Pos Age   Tm   G  GS    MP   FG   FGA    FG%  ...    TOV  \\\n",
      "0       Alex Abrines  SG  24  OKC  75   8  1134  115   291  0.395  ...     25   \n",
      "1         Quincy Acy  PF  27  BRK  70   8  1359  130   365  0.356  ...     60   \n",
      "2       Steven Adams   C  24  OKC  76  76  2487  448   712  0.629  ...    128   \n",
      "3        Bam Adebayo   C  20  MIA  69  19  1368  174   340  0.512  ...     66   \n",
      "4      Arron Afflalo  SG  32  ORL  53   3   682   65   162  0.401  ...     21   \n",
      "5       Cole Aldrich   C  29  MIN  21   0    49    5    15  0.333  ...      1   \n",
      "6  LaMarcus Aldridge   C  32  SAS  75  75  2509  687  1347   0.51  ...    111   \n",
      "7      Jarrett Allen   C  19  BRK  72  31  1441  234   397  0.589  ...     82   \n",
      "8       Kadeem Allen  PG  25  BOS  18   1   107    6    22  0.273  ...      9   \n",
      "9         Tony Allen  SF  36  NOP  22   0   273   44    91  0.484  ...     19   \n",
      "\n",
      "    PF   PTS   MP/G TRB/G AST/G STL/G BLK/G TOV/G  PTS/G  \n",
      "0  124   353  15.12  1.52  0.37  0.51  0.11  0.33   4.71  \n",
      "1  149   411  19.41  3.67  0.81  0.47  0.41  0.86   5.87  \n",
      "2  215  1056  32.72  9.01  1.16  1.21  1.03  1.68  13.89  \n",
      "3  138   477  19.83  5.52  1.46  0.46  0.59  0.96   6.91  \n",
      "4   56   179  12.87  1.25  0.57  0.08  0.17  0.40   3.38  \n",
      "5   11    12   2.33  0.71  0.14  0.10  0.05  0.05   0.57  \n",
      "6  161  1735  33.45  8.47  2.03  0.57  1.20  1.48  23.13  \n",
      "7  147   587  20.01  5.39  0.68  0.39  1.22  1.14   8.15  \n",
      "8   15    19   5.94  0.61  0.67  0.17  0.11  0.50   1.06  \n",
      "9   49   103  12.41  2.14  0.41  0.50  0.14  0.86   4.68  \n",
      "\n",
      "[10 rows x 36 columns]\n"
     ]
    }
   ],
   "source": [
    "print(data.head(10))"
   ]
  },
  {
   "cell_type": "code",
   "execution_count": null,
   "metadata": {},
   "outputs": [],
   "source": []
  },
  {
   "cell_type": "code",
   "execution_count": 200,
   "metadata": {},
   "outputs": [],
   "source": [
    "from sqlalchemy import create_engine\n",
    "import sqlite3 as sq"
   ]
  },
  {
   "cell_type": "code",
   "execution_count": 206,
   "metadata": {},
   "outputs": [],
   "source": [
    "engine = create_engine(r\"sqlite:///C:\\Users\\Lopezped\\Desktop\\Programs\\NBA_data.db\")\n",
    "\n",
    "data.to_sql(\"Player Totals\", con = engine, if_exists= \"replace\", index= data[\"Player\"])"
   ]
  },
  {
   "cell_type": "code",
   "execution_count": 207,
   "metadata": {},
   "outputs": [
    {
     "data": {
      "text/plain": [
       "<sqlite3.Cursor at 0x1fc15e73d50>"
      ]
     },
     "execution_count": 207,
     "metadata": {},
     "output_type": "execute_result"
    }
   ],
   "source": [
    "connection = sq.connect(\"NBA_data.db\")\n",
    "c = connection.cursor()\n",
    "c.execute(\"SELECT * FROM 'Player Totals'\")"
   ]
  },
  {
   "cell_type": "code",
   "execution_count": 208,
   "metadata": {},
   "outputs": [
    {
     "name": "stdout",
     "output_type": "stream",
     "text": [
      "[('Alex Abrines', 'SG', '24', 'OKC', 75.0, 8.0, 1134.0, 115.0, 291.0, 0.395, 84.0, 221.0, 0.38, 31.0, 70.0, 0.44299999999999995, 0.54, 39.0, 46.0, 0.848, 26.0, 88.0, 114.0, 28.0, 38.0, 8.0, 25.0, 124.0, 353.0, 15.12, 1.52, 0.37, 0.51, 0.11, 0.33, 4.71), ('Quincy Acy', 'PF', '27', 'BRK', 70.0, 8.0, 1359.0, 130.0, 365.0, 0.35600000000000004, 102.0, 292.0, 0.349, 28.0, 73.0, 0.384, 0.496, 49.0, 60.0, 0.8170000000000001, 40.0, 217.0, 257.0, 57.0, 33.0, 29.0, 60.0, 149.0, 411.0, 19.41, 3.67, 0.81, 0.47, 0.41, 0.86, 5.87), ('Steven Adams', 'C', '24', 'OKC', 76.0, 76.0, 2487.0, 448.0, 712.0, 0.629, 0.0, 2.0, 0.0, 448.0, 710.0, 0.631, 0.629, 160.0, 286.0, 0.5589999999999999, 384.0, 301.0, 685.0, 88.0, 92.0, 78.0, 128.0, 215.0, 1056.0, 32.72, 9.01, 1.16, 1.21, 1.03, 1.68, 13.89), ('Bam Adebayo', 'C', '20', 'MIA', 69.0, 19.0, 1368.0, 174.0, 340.0, 0.512, 0.0, 7.0, 0.0, 174.0, 333.0, 0.523, 0.512, 129.0, 179.0, 0.721, 118.0, 263.0, 381.0, 101.0, 32.0, 41.0, 66.0, 138.0, 477.0, 19.83, 5.52, 1.46, 0.46, 0.59, 0.96, 6.91), ('Arron Afflalo', 'SG', '32', 'ORL', 53.0, 3.0, 682.0, 65.0, 162.0, 0.401, 27.0, 70.0, 0.386, 38.0, 92.0, 0.413, 0.485, 22.0, 26.0, 0.846, 4.0, 62.0, 66.0, 30.0, 4.0, 9.0, 21.0, 56.0, 179.0, 12.87, 1.25, 0.57, 0.08, 0.17, 0.4, 3.38)]\n"
     ]
    }
   ],
   "source": [
    "print(c.fetchmany(5))"
   ]
  },
  {
   "cell_type": "code",
   "execution_count": 204,
   "metadata": {},
   "outputs": [],
   "source": [
    "connection.close()"
   ]
  },
  {
   "cell_type": "code",
   "execution_count": null,
   "metadata": {},
   "outputs": [],
   "source": []
  }
 ],
 "metadata": {
  "kernelspec": {
   "display_name": "Python 3",
   "language": "python",
   "name": "python3"
  },
  "language_info": {
   "codemirror_mode": {
    "name": "ipython",
    "version": 3
   },
   "file_extension": ".py",
   "mimetype": "text/x-python",
   "name": "python",
   "nbconvert_exporter": "python",
   "pygments_lexer": "ipython3",
   "version": "3.6.5"
  }
 },
 "nbformat": 4,
 "nbformat_minor": 2
}
