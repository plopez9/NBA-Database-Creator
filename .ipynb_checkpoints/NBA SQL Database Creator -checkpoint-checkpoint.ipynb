{
 "cells": [
  {
   "cell_type": "code",
   "execution_count": 1,
   "metadata": {},
   "outputs": [],
   "source": [
    "import pandas as pd\n",
    "from bs4 import BeautifulSoup\n",
    "import requests"
   ]
  },
  {
   "cell_type": "code",
   "execution_count": 62,
   "metadata": {},
   "outputs": [],
   "source": [
    "def df_creator (URL):\n",
    "    #Create Scraper Soup\n",
    "    sauce = requests.get(URL).text\n",
    "    soup = BeautifulSoup(sauce, \"lxml\")\n",
    "    del sauce\n",
    "    \n",
    "    #Extract Table Content\n",
    "    db_data = [[data.text for data in record.find_all(\"td\")] for record in soup.find_all(\"tr\")]\n",
    "    \n",
    "    #Extract Table Header\n",
    "    cols = [header.text for header in soup.find(\"tr\").find_all(\"th\")]\n",
    "    \n",
    "    #Create DataFrame\n",
    "    data = pd.DataFrame(db_data[1:], columns = cols[1:])\n",
    "    data.dropna(how=\"all\", axis=0, inplace=True)\n",
    "    \n",
    "    del db_data\n",
    "    del cols\n",
    "    del soup\n",
    "    \n",
    "    return data"
   ]
  },
  {
   "cell_type": "code",
   "execution_count": null,
   "metadata": {},
   "outputs": [],
   "source": []
  },
  {
   "cell_type": "code",
   "execution_count": 3,
   "metadata": {},
   "outputs": [],
   "source": [
    "data = df_creator(\"https://www.basketball-reference.com/leagues/NBA_2018_totals.html\")"
   ]
  },
  {
   "cell_type": "code",
   "execution_count": 4,
   "metadata": {},
   "outputs": [],
   "source": [
    "data.loc[:,\"G\":] = data.loc[:,\"G\":].apply(pd.to_numeric)"
   ]
  },
  {
   "cell_type": "code",
   "execution_count": 56,
   "metadata": {},
   "outputs": [],
   "source": [
    "#Keep to reference split function\n",
    "#name_split = lambda x: x[\"Player\"].split(\"\\\\\")[0]\n",
    "#data[\"Player\"] = data.apply(name_split, axis=1)\n",
    "#del name_split"
   ]
  },
  {
   "cell_type": "code",
   "execution_count": 5,
   "metadata": {},
   "outputs": [],
   "source": [
    "raw_stats = pd.concat([data[\"MP\"], data[\"TRB\"], data[\"AST\"], data[\"STL\"], data[\"BLK\"], data[\"TOV\"], data[\"PTS\"]], axis=1)\n",
    "per_game_label = [\"MP/G\", \"TRB/G\", \"AST/G\", \"STL/G\", \"BLK/G\", \"TOV/G\", \"PTS/G\"] \n",
    "raw_stats.columns = per_game_label\n",
    "del per_game_label"
   ]
  },
  {
   "cell_type": "code",
   "execution_count": 6,
   "metadata": {},
   "outputs": [],
   "source": [
    "games = data[\"G\"]\n",
    "\n",
    "def normalize (series1):\n",
    "    return (series1/games)"
   ]
  },
  {
   "cell_type": "code",
   "execution_count": 7,
   "metadata": {},
   "outputs": [],
   "source": [
    "raw_stats= raw_stats.apply(normalize)\n",
    "raw_stats= raw_stats.round(2)\n",
    "data = pd.concat([data, raw_stats], axis=1)\n",
    "del raw_stats\n",
    "del games"
   ]
  },
  {
   "cell_type": "code",
   "execution_count": 8,
   "metadata": {},
   "outputs": [
    {
     "name": "stdout",
     "output_type": "stream",
     "text": [
      "              Player Pos Age   Tm   G  GS    MP   FG   FGA    FG%  ...    TOV  \\\n",
      "0       Alex Abrines  SG  24  OKC  75   8  1134  115   291  0.395  ...     25   \n",
      "1         Quincy Acy  PF  27  BRK  70   8  1359  130   365  0.356  ...     60   \n",
      "2       Steven Adams   C  24  OKC  76  76  2487  448   712  0.629  ...    128   \n",
      "3        Bam Adebayo   C  20  MIA  69  19  1368  174   340  0.512  ...     66   \n",
      "4      Arron Afflalo  SG  32  ORL  53   3   682   65   162  0.401  ...     21   \n",
      "5       Cole Aldrich   C  29  MIN  21   0    49    5    15  0.333  ...      1   \n",
      "6  LaMarcus Aldridge   C  32  SAS  75  75  2509  687  1347   0.51  ...    111   \n",
      "7      Jarrett Allen   C  19  BRK  72  31  1441  234   397  0.589  ...     82   \n",
      "8       Kadeem Allen  PG  25  BOS  18   1   107    6    22  0.273  ...      9   \n",
      "9         Tony Allen  SF  36  NOP  22   0   273   44    91  0.484  ...     19   \n",
      "\n",
      "    PF   PTS   MP/G TRB/G AST/G STL/G BLK/G TOV/G  PTS/G  \n",
      "0  124   353  15.12  1.52  0.37  0.51  0.11  0.33   4.71  \n",
      "1  149   411  19.41  3.67  0.81  0.47  0.41  0.86   5.87  \n",
      "2  215  1056  32.72  9.01  1.16  1.21  1.03  1.68  13.89  \n",
      "3  138   477  19.83  5.52  1.46  0.46  0.59  0.96   6.91  \n",
      "4   56   179  12.87  1.25  0.57  0.08  0.17  0.40   3.38  \n",
      "5   11    12   2.33  0.71  0.14  0.10  0.05  0.05   0.57  \n",
      "6  161  1735  33.45  8.47  2.03  0.57  1.20  1.48  23.13  \n",
      "7  147   587  20.01  5.39  0.68  0.39  1.22  1.14   8.15  \n",
      "8   15    19   5.94  0.61  0.67  0.17  0.11  0.50   1.06  \n",
      "9   49   103  12.41  2.14  0.41  0.50  0.14  0.86   4.68  \n",
      "\n",
      "[10 rows x 36 columns]\n"
     ]
    }
   ],
   "source": [
    "print(data.head(10))"
   ]
  },
  {
   "cell_type": "code",
   "execution_count": null,
   "metadata": {},
   "outputs": [],
   "source": []
  },
  {
   "cell_type": "code",
   "execution_count": 28,
   "metadata": {},
   "outputs": [],
   "source": [
    "from sqlalchemy import create_engine\n",
    "import sqlite3 as sq"
   ]
  },
  {
   "cell_type": "code",
   "execution_count": 57,
   "metadata": {},
   "outputs": [],
   "source": [
    "engine = create_engine(r\"sqlite:///C:\\Users\\Lopezped\\Desktop\\Programs\\Databases\\NBA_data_test.db\")\n",
    "\n",
    "data.to_sql(\"Player Totals\", con = engine, if_exists= \"replace\", index= data[\"Player\"])"
   ]
  },
  {
   "cell_type": "code",
   "execution_count": 58,
   "metadata": {},
   "outputs": [
    {
     "ename": "OperationalError",
     "evalue": "unable to open database file",
     "output_type": "error",
     "traceback": [
      "\u001b[1;31m---------------------------------------------------------------------------\u001b[0m",
      "\u001b[1;31mOperationalError\u001b[0m                          Traceback (most recent call last)",
      "\u001b[1;32m<ipython-input-58-101a93a1180a>\u001b[0m in \u001b[0;36m<module>\u001b[1;34m()\u001b[0m\n\u001b[1;32m----> 1\u001b[1;33m \u001b[0mconnection\u001b[0m \u001b[1;33m=\u001b[0m \u001b[0msq\u001b[0m\u001b[1;33m.\u001b[0m\u001b[0mconnect\u001b[0m\u001b[1;33m(\u001b[0m\u001b[1;34mr\"sqlite:////C:\\Users\\Lopezped\\Desktop\\Programs\\Databases\\NBA_data_test.db\"\u001b[0m\u001b[1;33m)\u001b[0m\u001b[1;33m\u001b[0m\u001b[0m\n\u001b[0m\u001b[0;32m      2\u001b[0m \u001b[0mc\u001b[0m \u001b[1;33m=\u001b[0m \u001b[0mconnection\u001b[0m\u001b[1;33m.\u001b[0m\u001b[0mcursor\u001b[0m\u001b[1;33m(\u001b[0m\u001b[1;33m)\u001b[0m\u001b[1;33m\u001b[0m\u001b[0m\n\u001b[0;32m      3\u001b[0m \u001b[0mc\u001b[0m\u001b[1;33m.\u001b[0m\u001b[0mexecute\u001b[0m\u001b[1;33m(\u001b[0m\u001b[1;34m\"SELECT * FROM 'Player Totals'\"\u001b[0m\u001b[1;33m)\u001b[0m\u001b[1;33m\u001b[0m\u001b[0m\n",
      "\u001b[1;31mOperationalError\u001b[0m: unable to open database file"
     ]
    }
   ],
   "source": [
    "connection = sq.connect(r\"sqlite:////C:\\Users\\Lopezped\\Desktop\\Programs\\Databases\\NBA_data_test.db\")\n",
    "c = connection.cursor()\n",
    "c.execute(\"SELECT * FROM 'Player Totals'\")"
   ]
  },
  {
   "cell_type": "code",
   "execution_count": 42,
   "metadata": {},
   "outputs": [
    {
     "name": "stdout",
     "output_type": "stream",
     "text": [
      "[]\n"
     ]
    }
   ],
   "source": [
    "print(c.fetchmany(5))"
   ]
  },
  {
   "cell_type": "code",
   "execution_count": 51,
   "metadata": {},
   "outputs": [],
   "source": [
    "connection.close()"
   ]
  }
 ],
 "metadata": {
  "kernelspec": {
   "display_name": "Python 3",
   "language": "python",
   "name": "python3"
  },
  "language_info": {
   "codemirror_mode": {
    "name": "ipython",
    "version": 3
   },
   "file_extension": ".py",
   "mimetype": "text/x-python",
   "name": "python",
   "nbconvert_exporter": "python",
   "pygments_lexer": "ipython3",
   "version": "3.6.5"
  }
 },
 "nbformat": 4,
 "nbformat_minor": 2
}
