{
 "cells": [
  {
   "cell_type": "code",
   "execution_count": 96,
   "metadata": {},
   "outputs": [],
   "source": [
    "import pandas as pd\n",
    "from bs4 import BeautifulSoup\n",
    "import requests"
   ]
  },
  {
   "cell_type": "code",
   "execution_count": 114,
   "metadata": {},
   "outputs": [],
   "source": [
    "#Create Scraper Soup\n",
    "sauce = requests.get(\"https://www.basketball-reference.com/leagues/NBA_2018_totals.html\").text\n",
    "soup = BeautifulSoup(sauce, \"lxml\")\n",
    "del sauce\n",
    "    \n",
    "#Extract Table Content\n",
    "db_data = [[data.text for data in record.find_all(\"td\")] for record in soup.find_all(\"tr\")]\n",
    "   \n",
    "#Extract Table Header\n",
    "cols = [header.text for header in soup.find(\"tr\").find_all(\"th\")]\n",
    "\n",
    "#Create DataFrame    \n",
    "data = pd.DataFrame(db_data[1:], columns = cols[1:])\n",
    "data.dropna(how=\"all\", axis=0, inplace=True)\n",
    "\n"
   ]
  },
  {
   "cell_type": "code",
   "execution_count": 116,
   "metadata": {},
   "outputs": [],
   "source": [
    "data.loc[:,\"G\":] = data.loc[:,\"G\":].apply(pd.to_numeric)"
   ]
  },
  {
   "cell_type": "code",
   "execution_count": 56,
   "metadata": {},
   "outputs": [],
   "source": [
    "#Keep to reference split function\n",
    "#name_split = lambda x: x[\"Player\"].split(\"\\\\\")[0]\n",
    "#data[\"Player\"] = data.apply(name_split, axis=1)\n",
    "#del name_split"
   ]
  },
  {
   "cell_type": "code",
   "execution_count": 117,
   "metadata": {},
   "outputs": [],
   "source": [
    "raw_stats = pd.concat([data[\"MP\"], data[\"TRB\"], data[\"AST\"], data[\"STL\"], data[\"BLK\"], data[\"TOV\"], data[\"PTS\"]], axis=1)\n",
    "per_game_label = [\"MP/G\", \"TRB/G\", \"AST/G\", \"STL/G\", \"BLK/G\", \"TOV/G\", \"PTS/G\"] \n",
    "raw_stats.columns = per_game_label\n",
    "del per_game_label"
   ]
  },
  {
   "cell_type": "code",
   "execution_count": 118,
   "metadata": {},
   "outputs": [],
   "source": [
    "games = data[\"G\"]\n",
    "\n",
    "def normalize (series1):\n",
    "    return (series1/games)"
   ]
  },
  {
   "cell_type": "code",
   "execution_count": 119,
   "metadata": {},
   "outputs": [],
   "source": [
    "raw_stats= raw_stats.apply(normalize)\n",
    "raw_stats= raw_stats.round(2)\n",
    "data = pd.concat([data, raw_stats], axis=1)\n",
    "del raw_stats\n",
    "del games"
   ]
  },
  {
   "cell_type": "code",
   "execution_count": 120,
   "metadata": {},
   "outputs": [
    {
     "name": "stdout",
     "output_type": "stream",
     "text": [
      "              Player Pos Age   Tm   G  GS    MP   FG   FGA    FG%  ...    TOV  \\\n",
      "0       Alex Abrines  SG  24  OKC  75   8  1134  115   291  0.395  ...     25   \n",
      "1         Quincy Acy  PF  27  BRK  70   8  1359  130   365  0.356  ...     60   \n",
      "2       Steven Adams   C  24  OKC  76  76  2487  448   712  0.629  ...    128   \n",
      "3        Bam Adebayo   C  20  MIA  69  19  1368  174   340  0.512  ...     66   \n",
      "4      Arron Afflalo  SG  32  ORL  53   3   682   65   162  0.401  ...     21   \n",
      "5       Cole Aldrich   C  29  MIN  21   0    49    5    15  0.333  ...      1   \n",
      "6  LaMarcus Aldridge   C  32  SAS  75  75  2509  687  1347   0.51  ...    111   \n",
      "7      Jarrett Allen   C  19  BRK  72  31  1441  234   397  0.589  ...     82   \n",
      "8       Kadeem Allen  PG  25  BOS  18   1   107    6    22  0.273  ...      9   \n",
      "9         Tony Allen  SF  36  NOP  22   0   273   44    91  0.484  ...     19   \n",
      "\n",
      "    PF   PTS   MP/G TRB/G AST/G STL/G BLK/G TOV/G  PTS/G  \n",
      "0  124   353  15.12  1.52  0.37  0.51  0.11  0.33   4.71  \n",
      "1  149   411  19.41  3.67  0.81  0.47  0.41  0.86   5.87  \n",
      "2  215  1056  32.72  9.01  1.16  1.21  1.03  1.68  13.89  \n",
      "3  138   477  19.83  5.52  1.46  0.46  0.59  0.96   6.91  \n",
      "4   56   179  12.87  1.25  0.57  0.08  0.17  0.40   3.38  \n",
      "5   11    12   2.33  0.71  0.14  0.10  0.05  0.05   0.57  \n",
      "6  161  1735  33.45  8.47  2.03  0.57  1.20  1.48  23.13  \n",
      "7  147   587  20.01  5.39  0.68  0.39  1.22  1.14   8.15  \n",
      "8   15    19   5.94  0.61  0.67  0.17  0.11  0.50   1.06  \n",
      "9   49   103  12.41  2.14  0.41  0.50  0.14  0.86   4.68  \n",
      "\n",
      "[10 rows x 36 columns]\n"
     ]
    }
   ],
   "source": [
    "print(data.head(10))"
   ]
  },
  {
   "cell_type": "code",
   "execution_count": null,
   "metadata": {},
   "outputs": [],
   "source": []
  },
  {
   "cell_type": "code",
   "execution_count": 121,
   "metadata": {},
   "outputs": [
    {
     "data": {
      "text/html": [
       "<div>\n",
       "<style scoped>\n",
       "    .dataframe tbody tr th:only-of-type {\n",
       "        vertical-align: middle;\n",
       "    }\n",
       "\n",
       "    .dataframe tbody tr th {\n",
       "        vertical-align: top;\n",
       "    }\n",
       "\n",
       "    .dataframe thead th {\n",
       "        text-align: right;\n",
       "    }\n",
       "</style>\n",
       "<table border=\"1\" class=\"dataframe\">\n",
       "  <thead>\n",
       "    <tr style=\"text-align: right;\">\n",
       "      <th></th>\n",
       "      <th>Player</th>\n",
       "      <th>Tm</th>\n",
       "      <th>2018-19</th>\n",
       "      <th>2019-20</th>\n",
       "      <th>2020-21</th>\n",
       "      <th>2021-22</th>\n",
       "      <th>2022-23</th>\n",
       "      <th>2023-24</th>\n",
       "      <th>Signed Using</th>\n",
       "      <th>Guaranteed</th>\n",
       "    </tr>\n",
       "  </thead>\n",
       "  <tbody>\n",
       "    <tr>\n",
       "      <th>0</th>\n",
       "      <td>Stephen Curry</td>\n",
       "      <td>GSW</td>\n",
       "      <td>3.74572e+07</td>\n",
       "      <td>4.02318e+07</td>\n",
       "      <td>4.30064e+07</td>\n",
       "      <td>4.5781e+07</td>\n",
       "      <td>NaN</td>\n",
       "      <td>NaN</td>\n",
       "      <td>Bird Rights</td>\n",
       "      <td>166476240.0</td>\n",
       "    </tr>\n",
       "    <tr>\n",
       "      <th>1</th>\n",
       "      <td>Chris Paul</td>\n",
       "      <td>HOU</td>\n",
       "      <td>3.56542e+07</td>\n",
       "      <td>3.85065e+07</td>\n",
       "      <td>4.13588e+07</td>\n",
       "      <td>4.42111e+07</td>\n",
       "      <td>NaN</td>\n",
       "      <td>NaN</td>\n",
       "      <td></td>\n",
       "      <td>159730592.0</td>\n",
       "    </tr>\n",
       "    <tr>\n",
       "      <th>2</th>\n",
       "      <td>LeBron James</td>\n",
       "      <td>LAL</td>\n",
       "      <td>3.56542e+07</td>\n",
       "      <td>3.74369e+07</td>\n",
       "      <td>3.92196e+07</td>\n",
       "      <td>4.10023e+07</td>\n",
       "      <td>NaN</td>\n",
       "      <td>NaN</td>\n",
       "      <td></td>\n",
       "      <td>113310573.0</td>\n",
       "    </tr>\n",
       "    <tr>\n",
       "      <th>3</th>\n",
       "      <td>Russell Westbrook</td>\n",
       "      <td>OKC</td>\n",
       "      <td>3.535e+07</td>\n",
       "      <td>3.8178e+07</td>\n",
       "      <td>4.1006e+07</td>\n",
       "      <td>4.3848e+07</td>\n",
       "      <td>4.6662e+07</td>\n",
       "      <td>NaN</td>\n",
       "      <td>Bird Rights</td>\n",
       "      <td>158382000.0</td>\n",
       "    </tr>\n",
       "    <tr>\n",
       "      <th>4</th>\n",
       "      <td>Blake Griffin</td>\n",
       "      <td>DET</td>\n",
       "      <td>3.18739e+07</td>\n",
       "      <td>3.4235e+07</td>\n",
       "      <td>3.6596e+07</td>\n",
       "      <td>3.8957e+07</td>\n",
       "      <td>NaN</td>\n",
       "      <td>NaN</td>\n",
       "      <td>Bird Rights</td>\n",
       "      <td>102704892.0</td>\n",
       "    </tr>\n",
       "  </tbody>\n",
       "</table>\n",
       "</div>"
      ],
      "text/plain": [
       "              Player   Tm      2018-19      2019-20      2020-21      2021-22  \\\n",
       "0      Stephen Curry  GSW  3.74572e+07  4.02318e+07  4.30064e+07   4.5781e+07   \n",
       "1         Chris Paul  HOU  3.56542e+07  3.85065e+07  4.13588e+07  4.42111e+07   \n",
       "2       LeBron James  LAL  3.56542e+07  3.74369e+07  3.92196e+07  4.10023e+07   \n",
       "3  Russell Westbrook  OKC    3.535e+07   3.8178e+07   4.1006e+07   4.3848e+07   \n",
       "4      Blake Griffin  DET  3.18739e+07   3.4235e+07   3.6596e+07   3.8957e+07   \n",
       "\n",
       "      2022-23 2023-24 Signed Using   Guaranteed  \n",
       "0         NaN     NaN  Bird Rights  166476240.0  \n",
       "1         NaN     NaN               159730592.0  \n",
       "2         NaN     NaN               113310573.0  \n",
       "3  4.6662e+07     NaN  Bird Rights  158382000.0  \n",
       "4         NaN     NaN  Bird Rights  102704892.0  "
      ]
     },
     "execution_count": 121,
     "metadata": {},
     "output_type": "execute_result"
    }
   ],
   "source": [
    "sauce = requests.get(\"https://www.basketball-reference.com/contracts/players.html\").text\n",
    "soup = BeautifulSoup(sauce, \"lxml\")\n",
    "del sauce\n",
    "\n",
    "#Import Data \n",
    "db_data = [[data.text for data in record.find_all(\"td\")] for record in soup.find_all(\"tr\")]\n",
    "\n",
    "#Create Header\n",
    "contract_header = [header.text for header in soup.find_all(\"tr\")[1].find_all(\"th\")]\n",
    "\n",
    "#Create Data Frame\n",
    "contract_data = pd.DataFrame(db_data[2:], columns = contract_header[1:])\n",
    "\n",
    "#Clean Data\n",
    "contract_data.dropna(how=\"all\", axis=0, inplace=True)\n",
    "\n",
    "contract_data.loc[:,'2018-19':'2023-24']=contract_data.loc[:,'2018-19':'2023-24'].replace(\"\\$\",\"\",regex=True)\n",
    "contract_data.loc[:,'2018-19':'2023-24']=contract_data.loc[:,'2018-19':'2023-24'].replace(\",\",\"\",regex=True).apply(pd.to_numeric)\n",
    "\n",
    "contract_data.loc[:,\"Guaranteed\"] = contract_data.loc[:,\"Guaranteed\"].replace(\"\\$\",\"\", regex=True)\n",
    "contract_data.loc[:,\"Guaranteed\"] = contract_data.loc[:,\"Guaranteed\"].replace(\",\",\"\", regex=True).apply(pd.to_numeric)\n",
    "\n",
    "\n",
    "contract_data.head()"
   ]
  },
  {
   "cell_type": "code",
   "execution_count": null,
   "metadata": {},
   "outputs": [],
   "source": []
  },
  {
   "cell_type": "code",
   "execution_count": 122,
   "metadata": {},
   "outputs": [],
   "source": [
    "from sqlalchemy import create_engine\n",
    "import sqlite3 as sq"
   ]
  },
  {
   "cell_type": "code",
   "execution_count": 146,
   "metadata": {},
   "outputs": [],
   "source": [
    "engine = create_engine(r\"sqlite:///C:\\Users\\Lopezped\\Documents\\GitHub\\NBA-Database-Creator\\NBA_data.db\")\n",
    "\n",
    "data.to_sql(\"Player Totals\", con = engine, if_exists= \"replace\", index= data[\"Player\"])\n",
    "contract_data.to_sql(\"Player Contracts\", con = engine, if_exists=\"replace\", index = contract_data[\"Player\"])"
   ]
  },
  {
   "cell_type": "code",
   "execution_count": 149,
   "metadata": {},
   "outputs": [
    {
     "data": {
      "text/plain": [
       "<sqlite3.Cursor at 0x1ce8e5135e0>"
      ]
     },
     "execution_count": 149,
     "metadata": {},
     "output_type": "execute_result"
    }
   ],
   "source": [
    "connection = sq.connect(\"NBA_data.db\")\n",
    "c = connection.cursor()\n",
    "c.execute(\"SELECT * FROM 'Player Contracts'\")"
   ]
  },
  {
   "cell_type": "code",
   "execution_count": 150,
   "metadata": {},
   "outputs": [
    {
     "name": "stdout",
     "output_type": "stream",
     "text": [
      "[('Stephen Curry', 'GSW', 37457154.0, 40231758.0, 43006362.0, 45780966.0, None, None, 'Bird Rights', 166476240.0), ('Chris Paul', 'HOU', 35654150.0, 38506482.0, 41358814.0, 44211146.0, None, None, '', 159730592.0), ('LeBron James', 'LAL', 35654150.0, 37436858.0, 39219565.0, 41002273.0, None, None, '', 113310573.0), ('Russell Westbrook', 'OKC', 35350000.0, 38178000.0, 41006000.0, 43848000.0, 46662000.0, None, 'Bird Rights', 158382000.0), ('Blake Griffin', 'DET', 31873932.0, 34234964.0, 36595996.0, 38957028.0, None, None, 'Bird Rights', 102704892.0)]\n"
     ]
    }
   ],
   "source": [
    "print(c.fetchmany(5))"
   ]
  },
  {
   "cell_type": "code",
   "execution_count": 151,
   "metadata": {},
   "outputs": [],
   "source": [
    "connection.close()"
   ]
  },
  {
   "cell_type": "code",
   "execution_count": null,
   "metadata": {},
   "outputs": [],
   "source": []
  }
 ],
 "metadata": {
  "kernelspec": {
   "display_name": "Python 3",
   "language": "python",
   "name": "python3"
  },
  "language_info": {
   "codemirror_mode": {
    "name": "ipython",
    "version": 3
   },
   "file_extension": ".py",
   "mimetype": "text/x-python",
   "name": "python",
   "nbconvert_exporter": "python",
   "pygments_lexer": "ipython3",
   "version": "3.6.5"
  }
 },
 "nbformat": 4,
 "nbformat_minor": 2
}
